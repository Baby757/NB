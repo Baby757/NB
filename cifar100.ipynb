{
  "nbformat": 4,
  "nbformat_minor": 0,
  "metadata": {
    "colab": {
      "provenance": [],
      "authorship_tag": "ABX9TyPHDH14iUWg5MMBxQLYMexD",
      "include_colab_link": true
    },
    "kernelspec": {
      "name": "python3",
      "display_name": "Python 3"
    },
    "language_info": {
      "name": "python"
    }
  },
  "cells": [
    {
      "cell_type": "markdown",
      "metadata": {
        "id": "view-in-github",
        "colab_type": "text"
      },
      "source": [
        "<a href=\"https://colab.research.google.com/github/Baby757/NB/blob/main/cifar100.ipynb\" target=\"_parent\"><img src=\"https://colab.research.google.com/assets/colab-badge.svg\" alt=\"Open In Colab\"/></a>"
      ]
    },
    {
      "cell_type": "markdown",
      "source": [
        "В данном задании Вам необходимо разработать архитектуру сверточной ИНС, обеспечивающую наибольшую точность при ограничении на количество операций (FLOPs <= 0.707e6). Заготовка кода для выполнения задания приведена выше. Вашей задачей будет заполнить пропущеные места, которые отмечены ключевым словом None. Необходимая точность (accuracy) сети на датасете CIFAR100 - 30% Желаемая точность (accuracy) сети на датасете CIFAR100 - 45%"
      ],
      "metadata": {
        "id": "maquAwn82T-D"
      }
    },
    {
      "cell_type": "code",
      "execution_count": 1,
      "metadata": {
        "colab": {
          "base_uri": "https://localhost:8080/"
        },
        "id": "-1vBqkBZvZK4",
        "outputId": "06689b70-cdc7-46cc-b463-82facfed34fd"
      },
      "outputs": [
        {
          "output_type": "stream",
          "name": "stdout",
          "text": [
            "Looking in indexes: https://pypi.org/simple, https://us-python.pkg.dev/colab-wheels/public/simple/\n",
            "Requirement already satisfied: keras_flops in /usr/local/lib/python3.8/dist-packages (0.1.2)\n",
            "Requirement already satisfied: tensorflow<3.0,>=2.2 in /usr/local/lib/python3.8/dist-packages (from keras_flops) (2.9.2)\n",
            "Requirement already satisfied: numpy>=1.20 in /usr/local/lib/python3.8/dist-packages (from tensorflow<3.0,>=2.2->keras_flops) (1.21.6)\n",
            "Requirement already satisfied: wrapt>=1.11.0 in /usr/local/lib/python3.8/dist-packages (from tensorflow<3.0,>=2.2->keras_flops) (1.14.1)\n",
            "Requirement already satisfied: protobuf<3.20,>=3.9.2 in /usr/local/lib/python3.8/dist-packages (from tensorflow<3.0,>=2.2->keras_flops) (3.19.6)\n",
            "Requirement already satisfied: typing-extensions>=3.6.6 in /usr/local/lib/python3.8/dist-packages (from tensorflow<3.0,>=2.2->keras_flops) (4.4.0)\n",
            "Requirement already satisfied: libclang>=13.0.0 in /usr/local/lib/python3.8/dist-packages (from tensorflow<3.0,>=2.2->keras_flops) (15.0.6.1)\n",
            "Requirement already satisfied: grpcio<2.0,>=1.24.3 in /usr/local/lib/python3.8/dist-packages (from tensorflow<3.0,>=2.2->keras_flops) (1.51.1)\n",
            "Requirement already satisfied: keras-preprocessing>=1.1.1 in /usr/local/lib/python3.8/dist-packages (from tensorflow<3.0,>=2.2->keras_flops) (1.1.2)\n",
            "Requirement already satisfied: tensorflow-estimator<2.10.0,>=2.9.0rc0 in /usr/local/lib/python3.8/dist-packages (from tensorflow<3.0,>=2.2->keras_flops) (2.9.0)\n",
            "Requirement already satisfied: google-pasta>=0.1.1 in /usr/local/lib/python3.8/dist-packages (from tensorflow<3.0,>=2.2->keras_flops) (0.2.0)\n",
            "Requirement already satisfied: astunparse>=1.6.0 in /usr/local/lib/python3.8/dist-packages (from tensorflow<3.0,>=2.2->keras_flops) (1.6.3)\n",
            "Requirement already satisfied: tensorboard<2.10,>=2.9 in /usr/local/lib/python3.8/dist-packages (from tensorflow<3.0,>=2.2->keras_flops) (2.9.1)\n",
            "Requirement already satisfied: tensorflow-io-gcs-filesystem>=0.23.1 in /usr/local/lib/python3.8/dist-packages (from tensorflow<3.0,>=2.2->keras_flops) (0.29.0)\n",
            "Requirement already satisfied: termcolor>=1.1.0 in /usr/local/lib/python3.8/dist-packages (from tensorflow<3.0,>=2.2->keras_flops) (2.2.0)\n",
            "Requirement already satisfied: setuptools in /usr/local/lib/python3.8/dist-packages (from tensorflow<3.0,>=2.2->keras_flops) (57.4.0)\n",
            "Requirement already satisfied: absl-py>=1.0.0 in /usr/local/lib/python3.8/dist-packages (from tensorflow<3.0,>=2.2->keras_flops) (1.3.0)\n",
            "Requirement already satisfied: opt-einsum>=2.3.2 in /usr/local/lib/python3.8/dist-packages (from tensorflow<3.0,>=2.2->keras_flops) (3.3.0)\n",
            "Requirement already satisfied: flatbuffers<2,>=1.12 in /usr/local/lib/python3.8/dist-packages (from tensorflow<3.0,>=2.2->keras_flops) (1.12)\n",
            "Requirement already satisfied: keras<2.10.0,>=2.9.0rc0 in /usr/local/lib/python3.8/dist-packages (from tensorflow<3.0,>=2.2->keras_flops) (2.9.0)\n",
            "Requirement already satisfied: packaging in /usr/local/lib/python3.8/dist-packages (from tensorflow<3.0,>=2.2->keras_flops) (21.3)\n",
            "Requirement already satisfied: h5py>=2.9.0 in /usr/local/lib/python3.8/dist-packages (from tensorflow<3.0,>=2.2->keras_flops) (3.1.0)\n",
            "Requirement already satisfied: six>=1.12.0 in /usr/local/lib/python3.8/dist-packages (from tensorflow<3.0,>=2.2->keras_flops) (1.15.0)\n",
            "Requirement already satisfied: gast<=0.4.0,>=0.2.1 in /usr/local/lib/python3.8/dist-packages (from tensorflow<3.0,>=2.2->keras_flops) (0.4.0)\n",
            "Requirement already satisfied: wheel<1.0,>=0.23.0 in /usr/local/lib/python3.8/dist-packages (from astunparse>=1.6.0->tensorflow<3.0,>=2.2->keras_flops) (0.38.4)\n",
            "Requirement already satisfied: markdown>=2.6.8 in /usr/local/lib/python3.8/dist-packages (from tensorboard<2.10,>=2.9->tensorflow<3.0,>=2.2->keras_flops) (3.4.1)\n",
            "Requirement already satisfied: werkzeug>=1.0.1 in /usr/local/lib/python3.8/dist-packages (from tensorboard<2.10,>=2.9->tensorflow<3.0,>=2.2->keras_flops) (1.0.1)\n",
            "Requirement already satisfied: google-auth-oauthlib<0.5,>=0.4.1 in /usr/local/lib/python3.8/dist-packages (from tensorboard<2.10,>=2.9->tensorflow<3.0,>=2.2->keras_flops) (0.4.6)\n",
            "Requirement already satisfied: tensorboard-plugin-wit>=1.6.0 in /usr/local/lib/python3.8/dist-packages (from tensorboard<2.10,>=2.9->tensorflow<3.0,>=2.2->keras_flops) (1.8.1)\n",
            "Requirement already satisfied: requests<3,>=2.21.0 in /usr/local/lib/python3.8/dist-packages (from tensorboard<2.10,>=2.9->tensorflow<3.0,>=2.2->keras_flops) (2.25.1)\n",
            "Requirement already satisfied: tensorboard-data-server<0.7.0,>=0.6.0 in /usr/local/lib/python3.8/dist-packages (from tensorboard<2.10,>=2.9->tensorflow<3.0,>=2.2->keras_flops) (0.6.1)\n",
            "Requirement already satisfied: google-auth<3,>=1.6.3 in /usr/local/lib/python3.8/dist-packages (from tensorboard<2.10,>=2.9->tensorflow<3.0,>=2.2->keras_flops) (2.16.0)\n",
            "Requirement already satisfied: pyparsing!=3.0.5,>=2.0.2 in /usr/local/lib/python3.8/dist-packages (from packaging->tensorflow<3.0,>=2.2->keras_flops) (3.0.9)\n",
            "Requirement already satisfied: cachetools<6.0,>=2.0.0 in /usr/local/lib/python3.8/dist-packages (from google-auth<3,>=1.6.3->tensorboard<2.10,>=2.9->tensorflow<3.0,>=2.2->keras_flops) (5.2.1)\n",
            "Requirement already satisfied: rsa<5,>=3.1.4 in /usr/local/lib/python3.8/dist-packages (from google-auth<3,>=1.6.3->tensorboard<2.10,>=2.9->tensorflow<3.0,>=2.2->keras_flops) (4.9)\n",
            "Requirement already satisfied: pyasn1-modules>=0.2.1 in /usr/local/lib/python3.8/dist-packages (from google-auth<3,>=1.6.3->tensorboard<2.10,>=2.9->tensorflow<3.0,>=2.2->keras_flops) (0.2.8)\n",
            "Requirement already satisfied: requests-oauthlib>=0.7.0 in /usr/local/lib/python3.8/dist-packages (from google-auth-oauthlib<0.5,>=0.4.1->tensorboard<2.10,>=2.9->tensorflow<3.0,>=2.2->keras_flops) (1.3.1)\n",
            "Requirement already satisfied: importlib-metadata>=4.4 in /usr/local/lib/python3.8/dist-packages (from markdown>=2.6.8->tensorboard<2.10,>=2.9->tensorflow<3.0,>=2.2->keras_flops) (6.0.0)\n",
            "Requirement already satisfied: urllib3<1.27,>=1.21.1 in /usr/local/lib/python3.8/dist-packages (from requests<3,>=2.21.0->tensorboard<2.10,>=2.9->tensorflow<3.0,>=2.2->keras_flops) (1.24.3)\n",
            "Requirement already satisfied: idna<3,>=2.5 in /usr/local/lib/python3.8/dist-packages (from requests<3,>=2.21.0->tensorboard<2.10,>=2.9->tensorflow<3.0,>=2.2->keras_flops) (2.10)\n",
            "Requirement already satisfied: chardet<5,>=3.0.2 in /usr/local/lib/python3.8/dist-packages (from requests<3,>=2.21.0->tensorboard<2.10,>=2.9->tensorflow<3.0,>=2.2->keras_flops) (4.0.0)\n",
            "Requirement already satisfied: certifi>=2017.4.17 in /usr/local/lib/python3.8/dist-packages (from requests<3,>=2.21.0->tensorboard<2.10,>=2.9->tensorflow<3.0,>=2.2->keras_flops) (2022.12.7)\n",
            "Requirement already satisfied: zipp>=0.5 in /usr/local/lib/python3.8/dist-packages (from importlib-metadata>=4.4->markdown>=2.6.8->tensorboard<2.10,>=2.9->tensorflow<3.0,>=2.2->keras_flops) (3.11.0)\n",
            "Requirement already satisfied: pyasn1<0.5.0,>=0.4.6 in /usr/local/lib/python3.8/dist-packages (from pyasn1-modules>=0.2.1->google-auth<3,>=1.6.3->tensorboard<2.10,>=2.9->tensorflow<3.0,>=2.2->keras_flops) (0.4.8)\n",
            "Requirement already satisfied: oauthlib>=3.0.0 in /usr/local/lib/python3.8/dist-packages (from requests-oauthlib>=0.7.0->google-auth-oauthlib<0.5,>=0.4.1->tensorboard<2.10,>=2.9->tensorflow<3.0,>=2.2->keras_flops) (3.2.2)\n"
          ]
        }
      ],
      "source": [
        "!pip install keras_flops"
      ]
    },
    {
      "cell_type": "code",
      "source": [
        "# Импорт необходимых библиотек\n",
        "import numpy as np\n",
        "import pandas as pd\n",
        "import tensorflow as tf\n",
        "from keras_flops import get_flops\n",
        "import matplotlib.pyplot as plt\n",
        "\n",
        "import tensorflow_addons as tfa\n",
        "from tensorflow import keras\n",
        "from tensorflow.keras import layers"
      ],
      "metadata": {
        "id": "FYkLjUY6vdnP"
      },
      "execution_count": 2,
      "outputs": []
    },
    {
      "cell_type": "code",
      "source": [
        "# Глобальные константы\n",
        "CLASSES       = 100\n",
        "BATCH_SIZE    = 128\n",
        "LEARNING_RATE = 1e-2"
      ],
      "metadata": {
        "id": "ekFDPEbEvgZe"
      },
      "execution_count": 3,
      "outputs": []
    },
    {
      "cell_type": "code",
      "source": [
        "# Глобальные константы\n",
        "CLASSES       = 100\n",
        "BATCH_SIZE    = 128\n",
        "LEARNING_RATE = 1e-2"
      ],
      "metadata": {
        "id": "xAryo5YGvgSp"
      },
      "execution_count": 4,
      "outputs": []
    },
    {
      "cell_type": "code",
      "source": [
        "# Выполните загрузку модели\n",
        "(X_train, y_train), (X_val, y_val) = tf.keras.datasets.cifar100.load_data()"
      ],
      "metadata": {
        "id": "XOTwfh4Cvmb3"
      },
      "execution_count": 5,
      "outputs": []
    },
    {
      "cell_type": "code",
      "source": [
        "X_train = X_train.astype('float32')\n",
        "X_val = X_val.astype('float32')\n",
        "X_train = X_train / 255.0\n",
        "X_val = X_val / 255.0"
      ],
      "metadata": {
        "id": "AlPJsVgsf_KC"
      },
      "execution_count": 6,
      "outputs": []
    },
    {
      "cell_type": "code",
      "source": [
        "# Преобразуйте метки классов в one_hot формат\n",
        "y_train = (y_train ==  np.arange(CLASSES)).astype(np.float32)\n",
        "y_val = (y_val ==  np.arange(CLASSES)).astype(np.float32)"
      ],
      "metadata": {
        "id": "nY9LXs0wvpZ-"
      },
      "execution_count": 7,
      "outputs": []
    },
    {
      "cell_type": "code",
      "source": [
        "# убедитесь, что данная ячейка выполняется без ошибок\n",
        "assert X_train.shape == (50000, 32, 32, 3)\n",
        "assert X_val.shape == (10000, 32, 32, 3)\n",
        "assert y_train.shape == (50000, 100)\n",
        "assert y_val.shape == (10000, 100)"
      ],
      "metadata": {
        "id": "giOEJruSvrQH"
      },
      "execution_count": 8,
      "outputs": []
    },
    {
      "cell_type": "code",
      "source": [
        "print('Shape of X_train is {}'.format(X_train.shape))\n",
        "print('Shape of X_val is {}'.format(X_val.shape)) \n",
        "print('Shape of y_train is {}'.format(y_train.shape))\n",
        "print('Shape of y_val is {}'.format(y_val.shape))"
      ],
      "metadata": {
        "colab": {
          "base_uri": "https://localhost:8080/"
        },
        "id": "M6F9f0jZz8al",
        "outputId": "bf0d9b41-738e-461d-f5d8-9c702aa64c2d"
      },
      "execution_count": 9,
      "outputs": [
        {
          "output_type": "stream",
          "name": "stdout",
          "text": [
            "Shape of X_train is (50000, 32, 32, 3)\n",
            "Shape of X_val is (10000, 32, 32, 3)\n",
            "Shape of y_train is (50000, 100)\n",
            "Shape of y_val is (10000, 100)\n"
          ]
        }
      ]
    },
    {
      "cell_type": "code",
      "source": [
        "# Задайте архитектуру модели\n",
        "model = tf.keras.models.Sequential([\n",
        "    tf.keras.Input(shape=[32, 32, 3]),\n",
        "    tf.keras.layers.Conv2D(32,  kernel_size=(6, 6), strides=(4, 4), padding='same', activation='elu', use_bias=True),\n",
        "    tf.keras.layers.BatchNormalization(),\n",
        "    tf.keras.layers.Dropout(0.3),\n",
        "    tf.keras.layers.MaxPooling2D(pool_size=(2, 2), strides=2),\n",
        "    \n",
        "    tf.keras.layers.Flatten(),\n",
        "    tf.keras.layers.Dense(100),\n",
        "    tf.keras.layers.Activation('softmax'),\n",
        "    \n",
        "])\n"
      ],
      "metadata": {
        "id": "BARQUzQTvtRs"
      },
      "execution_count": 27,
      "outputs": []
    },
    {
      "cell_type": "code",
      "source": [
        "# вычисление количества операций\n",
        "flops = get_flops(model, batch_size=1)\n",
        "print(f\"FLOPs: {(flops / 1e6):.4f}e6\")"
      ],
      "metadata": {
        "colab": {
          "base_uri": "https://localhost:8080/"
        },
        "id": "1BzKZCaNvvpD",
        "outputId": "2365b402-ef17-45fb-d28b-b110f21bcaba"
      },
      "execution_count": 28,
      "outputs": [
        {
          "output_type": "stream",
          "name": "stdout",
          "text": [
            "FLOPs: 0.5538e6\n"
          ]
        }
      ]
    },
    {
      "cell_type": "code",
      "source": [
        "# вывод краткой информации о модели\n",
        "model.summary()"
      ],
      "metadata": {
        "colab": {
          "base_uri": "https://localhost:8080/"
        },
        "id": "ilce6tGbvyV6",
        "outputId": "9be7ab1a-67ea-4efd-8e5e-c9e2e77e7e11"
      },
      "execution_count": 12,
      "outputs": [
        {
          "output_type": "stream",
          "name": "stdout",
          "text": [
            "Model: \"sequential\"\n",
            "_________________________________________________________________\n",
            " Layer (type)                Output Shape              Param #   \n",
            "=================================================================\n",
            " conv2d (Conv2D)             (None, 8, 8, 31)          4588      \n",
            "                                                                 \n",
            " batch_normalization (BatchN  (None, 8, 8, 31)         124       \n",
            " ormalization)                                                   \n",
            "                                                                 \n",
            " dropout (Dropout)           (None, 8, 8, 31)          0         \n",
            "                                                                 \n",
            " max_pooling2d (MaxPooling2D  (None, 4, 4, 31)         0         \n",
            " )                                                               \n",
            "                                                                 \n",
            " flatten (Flatten)           (None, 496)               0         \n",
            "                                                                 \n",
            " dense (Dense)               (None, 100)               49700     \n",
            "                                                                 \n",
            " activation (Activation)     (None, 100)               0         \n",
            "                                                                 \n",
            "=================================================================\n",
            "Total params: 54,412\n",
            "Trainable params: 54,350\n",
            "Non-trainable params: 62\n",
            "_________________________________________________________________\n"
          ]
        }
      ]
    },
    {
      "cell_type": "code",
      "source": [
        "# параметры данной ячейки могут быть изменены для получения более высокой точности\n",
        "model.compile(\n",
        "    optimizer=tf.keras.optimizers.Adam(\n",
        "        learning_rate=tf.keras.optimizers.schedules.ExponentialDecay(initial_learning_rate=LEARNING_RATE, decay_steps=1000, decay_rate=0.5)\n",
        "    ),\n",
        "    loss=tf.keras.losses.CategoricalCrossentropy(),\n",
        "    metrics=['accuracy']\n",
        ")"
      ],
      "metadata": {
        "id": "nGYkZVQEv0te"
      },
      "execution_count": 29,
      "outputs": []
    },
    {
      "cell_type": "code",
      "source": [
        "model.fit(\n",
        "    x=X_train,\n",
        "    y=y_train,\n",
        "    validation_data=(X_val, y_val),\n",
        "    batch_size= BATCH_SIZE ,\n",
        "    callbacks=[\n",
        "        tf.keras.callbacks.ModelCheckpoint(filepath=\"{epoch:02d}-{val_accuracy:.2f}.hdf5\", save_best_only=True),\n",
        "        \n",
        "    ],\n",
        "    use_multiprocessing=True,\n",
        "    workers=8,\n",
        "    epochs=50\n",
        ") \n",
        "# Окончательная оценка модели model1 \n",
        "scores = model.evaluate(X_val, y_val, verbose=0) \n",
        "print(\"Accuracy: %.2f%%\" % (scores[1]*100))"
      ],
      "metadata": {
        "colab": {
          "base_uri": "https://localhost:8080/"
        },
        "id": "beaLFctOc9CO",
        "outputId": "80c8f4e1-92f2-4d80-b100-eda604515059"
      },
      "execution_count": null,
      "outputs": [
        {
          "output_type": "stream",
          "name": "stdout",
          "text": [
            "Epoch 1/50\n",
            "391/391 [==============================] - 9s 24ms/step - loss: 2.4781 - accuracy: 0.3841 - val_loss: 2.8232 - val_accuracy: 0.3175\n",
            "Epoch 2/50\n",
            "391/391 [==============================] - 9s 24ms/step - loss: 2.4828 - accuracy: 0.3826 - val_loss: 2.8237 - val_accuracy: 0.3178\n",
            "Epoch 3/50\n",
            "391/391 [==============================] - 10s 25ms/step - loss: 2.4814 - accuracy: 0.3846 - val_loss: 2.8223 - val_accuracy: 0.3177\n",
            "Epoch 4/50\n",
            "391/391 [==============================] - 11s 27ms/step - loss: 2.4892 - accuracy: 0.3810 - val_loss: 2.8221 - val_accuracy: 0.3183\n",
            "Epoch 5/50\n",
            "127/391 [========>.....................] - ETA: 5s - loss: 2.4816 - accuracy: 0.3840"
          ]
        }
      ]
    },
    {
      "cell_type": "markdown",
      "source": [
        "Epoch 41/50 имеет самый хороший результут"
      ],
      "metadata": {
        "id": "8DzyLmmKMCwm"
      }
    }
  ]
}